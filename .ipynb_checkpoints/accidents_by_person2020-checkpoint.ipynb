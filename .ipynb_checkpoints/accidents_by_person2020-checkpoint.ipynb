{
 "cells": [
  {
   "cell_type": "code",
   "execution_count": 1,
   "id": "e30155cb",
   "metadata": {},
   "outputs": [],
   "source": [
    "import pandas as pd\n",
    "from matplotlib import pyplot as plt\n",
    "import seaborn as sns\n",
    "import folium\n",
    "from folium.plugins import HeatMap\n",
    "import numpy as np"
   ]
  },
  {
   "cell_type": "code",
   "execution_count": 2,
   "id": "313d517e",
   "metadata": {},
   "outputs": [],
   "source": [
    "accidents_by_person2020 = pd.read_csv('/Users/anastasiasadova/Desktop/2020_accidents_persones_gu_bcn.csv')"
   ]
  },
  {
   "cell_type": "code",
   "execution_count": 3,
   "id": "24f58b61",
   "metadata": {},
   "outputs": [
    {
     "data": {
      "text/plain": [
       "(13810, 30)"
      ]
     },
     "execution_count": 3,
     "metadata": {},
     "output_type": "execute_result"
    }
   ],
   "source": [
    "accidents_by_person2020.shape"
   ]
  },
  {
   "cell_type": "code",
   "execution_count": 4,
   "id": "7baf4dae",
   "metadata": {},
   "outputs": [
    {
     "data": {
      "text/plain": [
       "array(['Conductor', 'Vianant', 'Passatger', 'Desconegut'], dtype=object)"
      ]
     },
     "execution_count": 4,
     "metadata": {},
     "output_type": "execute_result"
    }
   ],
   "source": [
    "accidents_by_person2020['Descripció_tipus_persona'].unique()"
   ]
  },
  {
   "cell_type": "code",
   "execution_count": 5,
   "id": "c8bcdf28",
   "metadata": {},
   "outputs": [
    {
     "data": {
      "text/plain": [
       "array(['Desconegut                                                                                                                                            ',\n",
       "       'En pas regulat per semŕfor                                                                                                                            ',\n",
       "       'En pas sense regular                                                                                                                                  ',\n",
       "       'Fora del pas                                                                                                                                          ',\n",
       "       'A la vorera / Andana                                                                                                                                  ',\n",
       "       'En zona peatonal                                                                                                                                      ',\n",
       "       'En pas sense senyalitzar                                                                                                                              ',\n",
       "       'Altres                                                                                                                                                '],\n",
       "      dtype=object)"
      ]
     },
     "execution_count": 5,
     "metadata": {},
     "output_type": "execute_result"
    }
   ],
   "source": [
    "accidents_by_person2020['Descripcio_Lloc_atropellament_vianat'].unique()"
   ]
  },
  {
   "cell_type": "code",
   "execution_count": 6,
   "id": "8afeff21",
   "metadata": {},
   "outputs": [],
   "source": [
    "# Strip leading and trailing spaces\n",
    "accidents_by_person2020['Descripcio_Lloc_atropellament_vianat'] = (\n",
    "    accidents_by_person2020['Descripcio_Lloc_atropellament_vianat']\n",
    "    .str.strip()  # Removes leading and trailing spaces\n",
    ")"
   ]
  },
  {
   "cell_type": "code",
   "execution_count": 7,
   "id": "d2d6a3ec",
   "metadata": {},
   "outputs": [],
   "source": [
    "# Replace multiple spaces with a single space\n",
    "accidents_by_person2020['Descripcio_Lloc_atropellament_vianat'] = (\n",
    "    accidents_by_person2020['Descripcio_Lloc_atropellament_vianat']\n",
    "    .str.replace(r'\\s+', ' ', regex=True)  # Normalizes internal spaces\n",
    ")"
   ]
  },
  {
   "cell_type": "code",
   "execution_count": 8,
   "id": "3fb49912",
   "metadata": {},
   "outputs": [
    {
     "name": "stdout",
     "output_type": "stream",
     "text": [
      "['Desconegut' 'En pas regulat per semŕfor' 'En pas sense regular'\n",
      " 'Fora del pas' 'A la vorera / Andana' 'En zona peatonal'\n",
      " 'En pas sense senyalitzar' 'Altres']\n"
     ]
    }
   ],
   "source": [
    "# Display unique values after normalization\n",
    "print(accidents_by_person2020['Descripcio_Lloc_atropellament_vianat'].unique())"
   ]
  },
  {
   "cell_type": "code",
   "execution_count": null,
   "id": "42f24a75",
   "metadata": {},
   "outputs": [],
   "source": []
  },
  {
   "cell_type": "code",
   "execution_count": null,
   "id": "f70c8f06",
   "metadata": {},
   "outputs": [],
   "source": []
  },
  {
   "cell_type": "code",
   "execution_count": null,
   "id": "35733828",
   "metadata": {},
   "outputs": [],
   "source": []
  },
  {
   "cell_type": "code",
   "execution_count": 388,
   "id": "84b027f8",
   "metadata": {},
   "outputs": [
    {
     "name": "stdout",
     "output_type": "stream",
     "text": [
      "Translated dataset saved to /Users/anastasiasadova/Desktop/2020_accidents_persones_translated.csv\n"
     ]
    }
   ],
   "source": [
    "# Load your dataset\n",
    "file_path = '/Users/anastasiasadova/Desktop/2020_accidents_persones_gu_bcn.csv'  \n",
    "people_data = pd.read_csv(file_path)\n",
    "\n",
    "# Define translations\n",
    "translation_dict = {\n",
    "    \"Conductor\": \"Driver\", 'Vianant': 'Pedestrian', 'Passatger': 'Passenger', 'En pas regulat per semŕfor': 'In crossing regulated by traffic lights',\n",
    "    'En pas sense regular ': 'In unregulated crossing', 'Fora del pas': 'Outside the crossing', \n",
    "    \"A la vorera / Andana\":\"On the sidewalk\", \"En zona peatonal\":'In pedestrian area',\n",
    "    \"En pas sense senyalitzar\":\"At an unmarked crossing\",\n",
    "    \"Altres\":\"Others\",\n",
    "    \"Dilluns\": \"Monday\", \"Dimarts\": \"Tuesday\", \"Dimecres\": \"Wednesday\",\n",
    "    \"Dijous\": \"Thursday\", \"Divendres\": \"Friday\", \"Dissabte\": \"Saturday\", \"Diumenge\": \"Sunday\",\n",
    "    \"Gener\": \"January\", \"Febrer\": \"February\", \"Març\": \"March\", \"Abril\": \"April\",\n",
    "    \"Maig\": \"May\", \"Juny\": \"June\", \"Juliol\": \"July\", \"Agost\": \"August\",\n",
    "    \"Setembre\": \"September\", \"Octubre\": \"October\", \"Novembre\": \"November\", \"Desembre\": \"December\",\n",
    "    \"Il.lčs\": \"Uninjured\", \n",
    "    \"Ferit lleu: Hospitalització fins a 24h\": \"Minor injury: Hospitalization up to 24 hours\",\n",
    "    \"Ferit lleu: Amb assistčncia sanitŕria en lloc d'accident\": \"Minor injury: Medical assistance at accident site\",\n",
    "    \"Ferit lleu: Rebutja assistčncia sanitŕria\": \"Minor injury: Refused medical assistance\",\n",
    "    \"Ferit greu: hospitalització superior a 24h\": \"Serious injury: Hospitalization over 24 hours\",\n",
    "    \"Mort (dins 24h posteriors accident)\": \"Death (within 24 hours of accident)\",\n",
    "    \"Mort (després de 24h posteriors accident)\": \"Death (after 24 hours of accident)\",\n",
    "    \"Es desconeix\": \"Unknown\", \"Desconegut\": \"Unknown\", \"Altres\": \"Others\", \n",
    "    \"Taxi\": \"Taxi\", \"Turisme\": \"Car\", \"Motocicleta\": \"Motorcycle\"\n",
    "}\n",
    "\n",
    "# Apply the translations\n",
    "people_data.replace(translation_dict, inplace=True)\n",
    "\n",
    "# Save the translated dataset\n",
    "output_path = '/Users/anastasiasadova/Desktop/2020_accidents_persones_translated.csv'\n",
    "people_data.to_csv(output_path, index=False)\n",
    "\n",
    "print(f\"Translated dataset saved to {output_path}\")"
   ]
  },
  {
   "cell_type": "code",
   "execution_count": 29,
   "id": "1ebb52e7",
   "metadata": {},
   "outputs": [],
   "source": [
    "accidents_by_person2020edited = pd.read_csv('/Users/anastasiasadova/Desktop/files for git/2020_accidents_persones_edited.csv')"
   ]
  },
  {
   "cell_type": "code",
   "execution_count": 30,
   "id": "6133ef65",
   "metadata": {},
   "outputs": [
    {
     "data": {
      "text/html": [
       "<div>\n",
       "<style scoped>\n",
       "    .dataframe tbody tr th:only-of-type {\n",
       "        vertical-align: middle;\n",
       "    }\n",
       "\n",
       "    .dataframe tbody tr th {\n",
       "        vertical-align: top;\n",
       "    }\n",
       "\n",
       "    .dataframe thead th {\n",
       "        text-align: right;\n",
       "    }\n",
       "</style>\n",
       "<table border=\"1\" class=\"dataframe\">\n",
       "  <thead>\n",
       "    <tr style=\"text-align: right;\">\n",
       "      <th></th>\n",
       "      <th>Case_Number</th>\n",
       "      <th>District_Name</th>\n",
       "      <th>Neighborhood_Name</th>\n",
       "      <th>Street_Name</th>\n",
       "      <th>Day_of_Week</th>\n",
       "      <th>Date</th>\n",
       "      <th>Day_Type_Description</th>\n",
       "      <th>Year</th>\n",
       "      <th>Month_of_Year</th>\n",
       "      <th>Month_Name</th>\n",
       "      <th>...</th>\n",
       "      <th>Age</th>\n",
       "      <th>Person_Type_Description</th>\n",
       "      <th>Pedestrian_Accident_Location_Description</th>\n",
       "      <th>Pedestrian_Movement_Reason_Description</th>\n",
       "      <th>Driver_Movement_Reason_Description</th>\n",
       "      <th>Victimization_Description</th>\n",
       "      <th>Coordenada_UTM_X</th>\n",
       "      <th>Coordenada_UTM_Y</th>\n",
       "      <th>Longitud</th>\n",
       "      <th>Latitud</th>\n",
       "    </tr>\n",
       "  </thead>\n",
       "  <tbody>\n",
       "    <tr>\n",
       "      <th>0</th>\n",
       "      <td>2020S000001</td>\n",
       "      <td>Horta-Guinardó</td>\n",
       "      <td>la Font d'en Fargues</td>\n",
       "      <td>Maragall</td>\n",
       "      <td>Wednesday</td>\n",
       "      <td>2020-01-01</td>\n",
       "      <td>Laboral</td>\n",
       "      <td>2020</td>\n",
       "      <td>1</td>\n",
       "      <td>January</td>\n",
       "      <td>...</td>\n",
       "      <td>29</td>\n",
       "      <td>Driver</td>\n",
       "      <td>Unknown</td>\n",
       "      <td>Unknown</td>\n",
       "      <td>Unknown</td>\n",
       "      <td>Uninjured</td>\n",
       "      <td>430501.45</td>\n",
       "      <td>4586751.53</td>\n",
       "      <td>2.167116</td>\n",
       "      <td>41.427474</td>\n",
       "    </tr>\n",
       "    <tr>\n",
       "      <th>1</th>\n",
       "      <td>2020S000002</td>\n",
       "      <td>Sants-Montjuďc</td>\n",
       "      <td>la Bordeta</td>\n",
       "      <td>Corts Catalanes</td>\n",
       "      <td>Wednesday</td>\n",
       "      <td>2020-01-01</td>\n",
       "      <td>Laboral</td>\n",
       "      <td>2020</td>\n",
       "      <td>1</td>\n",
       "      <td>January</td>\n",
       "      <td>...</td>\n",
       "      <td>26</td>\n",
       "      <td>Pedestrian</td>\n",
       "      <td>In crossing regulated by traffic lights</td>\n",
       "      <td>Leisure and entertainment</td>\n",
       "      <td>Unknown</td>\n",
       "      <td>Minor injury: Hospitalization up to 24 hours</td>\n",
       "      <td>428225.71</td>\n",
       "      <td>4580279.72</td>\n",
       "      <td>2.140650</td>\n",
       "      <td>41.368985</td>\n",
       "    </tr>\n",
       "    <tr>\n",
       "      <th>2</th>\n",
       "      <td>2020S000002</td>\n",
       "      <td>Sants-Montjuďc</td>\n",
       "      <td>la Bordeta</td>\n",
       "      <td>Corts Catalanes</td>\n",
       "      <td>Wednesday</td>\n",
       "      <td>2020-01-01</td>\n",
       "      <td>Laboral</td>\n",
       "      <td>2020</td>\n",
       "      <td>1</td>\n",
       "      <td>January</td>\n",
       "      <td>...</td>\n",
       "      <td>31</td>\n",
       "      <td>Driver</td>\n",
       "      <td>In crossing regulated by traffic lights</td>\n",
       "      <td>Unknown</td>\n",
       "      <td>Taxi</td>\n",
       "      <td>Uninjured</td>\n",
       "      <td>428225.71</td>\n",
       "      <td>4580279.72</td>\n",
       "      <td>2.140650</td>\n",
       "      <td>41.368985</td>\n",
       "    </tr>\n",
       "    <tr>\n",
       "      <th>3</th>\n",
       "      <td>2020S000003</td>\n",
       "      <td>Eixample</td>\n",
       "      <td>l'Antiga Esquerra de l'Eixample</td>\n",
       "      <td>Sarriŕ</td>\n",
       "      <td>Wednesday</td>\n",
       "      <td>2020-01-01</td>\n",
       "      <td>Laboral</td>\n",
       "      <td>2020</td>\n",
       "      <td>1</td>\n",
       "      <td>January</td>\n",
       "      <td>...</td>\n",
       "      <td>42</td>\n",
       "      <td>Driver</td>\n",
       "      <td>Unknown</td>\n",
       "      <td>Unknown</td>\n",
       "      <td>Leisure and entertainment</td>\n",
       "      <td>Minor injury: Hospitalization up to 24 hours</td>\n",
       "      <td>428532.59</td>\n",
       "      <td>4582672.59</td>\n",
       "      <td>2.144037</td>\n",
       "      <td>41.390564</td>\n",
       "    </tr>\n",
       "    <tr>\n",
       "      <th>4</th>\n",
       "      <td>2020S000003</td>\n",
       "      <td>Eixample</td>\n",
       "      <td>l'Antiga Esquerra de l'Eixample</td>\n",
       "      <td>Sarriŕ</td>\n",
       "      <td>Wednesday</td>\n",
       "      <td>2020-01-01</td>\n",
       "      <td>Laboral</td>\n",
       "      <td>2020</td>\n",
       "      <td>1</td>\n",
       "      <td>January</td>\n",
       "      <td>...</td>\n",
       "      <td>36</td>\n",
       "      <td>Driver</td>\n",
       "      <td>Unknown</td>\n",
       "      <td>Unknown</td>\n",
       "      <td>Taxi</td>\n",
       "      <td>Uninjured</td>\n",
       "      <td>428532.59</td>\n",
       "      <td>4582672.59</td>\n",
       "      <td>2.144037</td>\n",
       "      <td>41.390564</td>\n",
       "    </tr>\n",
       "    <tr>\n",
       "      <th>...</th>\n",
       "      <td>...</td>\n",
       "      <td>...</td>\n",
       "      <td>...</td>\n",
       "      <td>...</td>\n",
       "      <td>...</td>\n",
       "      <td>...</td>\n",
       "      <td>...</td>\n",
       "      <td>...</td>\n",
       "      <td>...</td>\n",
       "      <td>...</td>\n",
       "      <td>...</td>\n",
       "      <td>...</td>\n",
       "      <td>...</td>\n",
       "      <td>...</td>\n",
       "      <td>...</td>\n",
       "      <td>...</td>\n",
       "      <td>...</td>\n",
       "      <td>...</td>\n",
       "      <td>...</td>\n",
       "      <td>...</td>\n",
       "      <td>...</td>\n",
       "    </tr>\n",
       "    <tr>\n",
       "      <th>13053</th>\n",
       "      <td>2020S006275</td>\n",
       "      <td>Eixample</td>\n",
       "      <td>Sant Antoni</td>\n",
       "      <td>Sepúlveda</td>\n",
       "      <td>Thursday</td>\n",
       "      <td>2020-12-31</td>\n",
       "      <td>Laboral</td>\n",
       "      <td>2020</td>\n",
       "      <td>12</td>\n",
       "      <td>December</td>\n",
       "      <td>...</td>\n",
       "      <td>35</td>\n",
       "      <td>Driver</td>\n",
       "      <td>Unknown</td>\n",
       "      <td>Unknown</td>\n",
       "      <td>Unknown</td>\n",
       "      <td>Minor injury: Hospitalization up to 24 hours</td>\n",
       "      <td>430125.99</td>\n",
       "      <td>4581881.31</td>\n",
       "      <td>2.163185</td>\n",
       "      <td>41.383577</td>\n",
       "    </tr>\n",
       "    <tr>\n",
       "      <th>13054</th>\n",
       "      <td>2020S006276</td>\n",
       "      <td>Ciutat Vella</td>\n",
       "      <td>el Barri Gňtic</td>\n",
       "      <td>Litoral (Llobregat)</td>\n",
       "      <td>Thursday</td>\n",
       "      <td>2020-12-31</td>\n",
       "      <td>Laboral</td>\n",
       "      <td>2020</td>\n",
       "      <td>12</td>\n",
       "      <td>December</td>\n",
       "      <td>...</td>\n",
       "      <td>48</td>\n",
       "      <td>Driver</td>\n",
       "      <td>Unknown</td>\n",
       "      <td>Unknown</td>\n",
       "      <td>Other activities</td>\n",
       "      <td>Minor injury: Hospitalization up to 24 hours</td>\n",
       "      <td>431410.40</td>\n",
       "      <td>4581077.37</td>\n",
       "      <td>2.178636</td>\n",
       "      <td>41.376447</td>\n",
       "    </tr>\n",
       "    <tr>\n",
       "      <th>13055</th>\n",
       "      <td>2020S006276</td>\n",
       "      <td>Ciutat Vella</td>\n",
       "      <td>el Barri Gňtic</td>\n",
       "      <td>Litoral (Llobregat)</td>\n",
       "      <td>Thursday</td>\n",
       "      <td>2020-12-31</td>\n",
       "      <td>Laboral</td>\n",
       "      <td>2020</td>\n",
       "      <td>12</td>\n",
       "      <td>December</td>\n",
       "      <td>...</td>\n",
       "      <td>16</td>\n",
       "      <td>Driver</td>\n",
       "      <td>Unknown</td>\n",
       "      <td>Unknown</td>\n",
       "      <td>Other activities</td>\n",
       "      <td>Minor injury: Hospitalization up to 24 hours</td>\n",
       "      <td>431410.40</td>\n",
       "      <td>4581077.37</td>\n",
       "      <td>2.178636</td>\n",
       "      <td>41.376447</td>\n",
       "    </tr>\n",
       "    <tr>\n",
       "      <th>13056</th>\n",
       "      <td>2020S006277</td>\n",
       "      <td>Eixample</td>\n",
       "      <td>la Nova Esquerra de l'Eixample</td>\n",
       "      <td>Aragó</td>\n",
       "      <td>Thursday</td>\n",
       "      <td>2020-12-31</td>\n",
       "      <td>Laboral</td>\n",
       "      <td>2020</td>\n",
       "      <td>12</td>\n",
       "      <td>December</td>\n",
       "      <td>...</td>\n",
       "      <td>56</td>\n",
       "      <td>Passenger</td>\n",
       "      <td>Unknown</td>\n",
       "      <td>Unknown</td>\n",
       "      <td>Unknown</td>\n",
       "      <td>Minor injury: Hospitalization up to 24 hours</td>\n",
       "      <td>429362.84</td>\n",
       "      <td>4581954.15</td>\n",
       "      <td>2.154051</td>\n",
       "      <td>41.384166</td>\n",
       "    </tr>\n",
       "    <tr>\n",
       "      <th>13057</th>\n",
       "      <td>2020S006277</td>\n",
       "      <td>Eixample</td>\n",
       "      <td>la Nova Esquerra de l'Eixample</td>\n",
       "      <td>Aragó</td>\n",
       "      <td>Thursday</td>\n",
       "      <td>2020-12-31</td>\n",
       "      <td>Laboral</td>\n",
       "      <td>2020</td>\n",
       "      <td>12</td>\n",
       "      <td>December</td>\n",
       "      <td>...</td>\n",
       "      <td>64</td>\n",
       "      <td>Driver</td>\n",
       "      <td>Unknown</td>\n",
       "      <td>Unknown</td>\n",
       "      <td>Unknown</td>\n",
       "      <td>Minor injury: Hospitalization up to 24 hours</td>\n",
       "      <td>429362.84</td>\n",
       "      <td>4581954.15</td>\n",
       "      <td>2.154051</td>\n",
       "      <td>41.384166</td>\n",
       "    </tr>\n",
       "  </tbody>\n",
       "</table>\n",
       "<p>13058 rows × 26 columns</p>\n",
       "</div>"
      ],
      "text/plain": [
       "           Case_Number   District_Name                Neighborhood_Name  \\\n",
       "0      2020S000001      Horta-Guinardó             la Font d'en Fargues   \n",
       "1      2020S000002      Sants-Montjuďc                       la Bordeta   \n",
       "2      2020S000002      Sants-Montjuďc                       la Bordeta   \n",
       "3      2020S000003            Eixample  l'Antiga Esquerra de l'Eixample   \n",
       "4      2020S000003            Eixample  l'Antiga Esquerra de l'Eixample   \n",
       "...                ...             ...                              ...   \n",
       "13053  2020S006275            Eixample                      Sant Antoni   \n",
       "13054  2020S006276        Ciutat Vella                   el Barri Gňtic   \n",
       "13055  2020S006276        Ciutat Vella                   el Barri Gňtic   \n",
       "13056  2020S006277            Eixample   la Nova Esquerra de l'Eixample   \n",
       "13057  2020S006277            Eixample   la Nova Esquerra de l'Eixample   \n",
       "\n",
       "               Street_Name Day_of_Week        Date Day_Type_Description  Year  \\\n",
       "0                 Maragall   Wednesday  2020-01-01              Laboral  2020   \n",
       "1          Corts Catalanes   Wednesday  2020-01-01              Laboral  2020   \n",
       "2          Corts Catalanes   Wednesday  2020-01-01              Laboral  2020   \n",
       "3                   Sarriŕ   Wednesday  2020-01-01              Laboral  2020   \n",
       "4                   Sarriŕ   Wednesday  2020-01-01              Laboral  2020   \n",
       "...                    ...         ...         ...                  ...   ...   \n",
       "13053            Sepúlveda    Thursday  2020-12-31              Laboral  2020   \n",
       "13054  Litoral (Llobregat)    Thursday  2020-12-31              Laboral  2020   \n",
       "13055  Litoral (Llobregat)    Thursday  2020-12-31              Laboral  2020   \n",
       "13056                Aragó    Thursday  2020-12-31              Laboral  2020   \n",
       "13057                Aragó    Thursday  2020-12-31              Laboral  2020   \n",
       "\n",
       "       Month_of_Year Month_Name  ...  Age Person_Type_Description  \\\n",
       "0                  1    January  ...   29                  Driver   \n",
       "1                  1    January  ...   26              Pedestrian   \n",
       "2                  1    January  ...   31                  Driver   \n",
       "3                  1    January  ...   42                  Driver   \n",
       "4                  1    January  ...   36                  Driver   \n",
       "...              ...        ...  ...  ...                     ...   \n",
       "13053             12   December  ...   35                  Driver   \n",
       "13054             12   December  ...   48                  Driver   \n",
       "13055             12   December  ...   16                  Driver   \n",
       "13056             12   December  ...   56               Passenger   \n",
       "13057             12   December  ...   64                  Driver   \n",
       "\n",
       "      Pedestrian_Accident_Location_Description  \\\n",
       "0                                      Unknown   \n",
       "1      In crossing regulated by traffic lights   \n",
       "2      In crossing regulated by traffic lights   \n",
       "3                                      Unknown   \n",
       "4                                      Unknown   \n",
       "...                                        ...   \n",
       "13053                                  Unknown   \n",
       "13054                                  Unknown   \n",
       "13055                                  Unknown   \n",
       "13056                                  Unknown   \n",
       "13057                                  Unknown   \n",
       "\n",
       "      Pedestrian_Movement_Reason_Description  \\\n",
       "0                                    Unknown   \n",
       "1                  Leisure and entertainment   \n",
       "2                                    Unknown   \n",
       "3                                    Unknown   \n",
       "4                                    Unknown   \n",
       "...                                      ...   \n",
       "13053                                Unknown   \n",
       "13054                                Unknown   \n",
       "13055                                Unknown   \n",
       "13056                                Unknown   \n",
       "13057                                Unknown   \n",
       "\n",
       "      Driver_Movement_Reason_Description  \\\n",
       "0                                Unknown   \n",
       "1                                Unknown   \n",
       "2                                   Taxi   \n",
       "3              Leisure and entertainment   \n",
       "4                                   Taxi   \n",
       "...                                  ...   \n",
       "13053                            Unknown   \n",
       "13054                   Other activities   \n",
       "13055                   Other activities   \n",
       "13056                            Unknown   \n",
       "13057                            Unknown   \n",
       "\n",
       "                          Victimization_Description  Coordenada_UTM_X  \\\n",
       "0                                         Uninjured         430501.45   \n",
       "1      Minor injury: Hospitalization up to 24 hours         428225.71   \n",
       "2                                         Uninjured         428225.71   \n",
       "3      Minor injury: Hospitalization up to 24 hours         428532.59   \n",
       "4                                         Uninjured         428532.59   \n",
       "...                                             ...               ...   \n",
       "13053  Minor injury: Hospitalization up to 24 hours         430125.99   \n",
       "13054  Minor injury: Hospitalization up to 24 hours         431410.40   \n",
       "13055  Minor injury: Hospitalization up to 24 hours         431410.40   \n",
       "13056  Minor injury: Hospitalization up to 24 hours         429362.84   \n",
       "13057  Minor injury: Hospitalization up to 24 hours         429362.84   \n",
       "\n",
       "      Coordenada_UTM_Y  Longitud    Latitud  \n",
       "0           4586751.53  2.167116  41.427474  \n",
       "1           4580279.72  2.140650  41.368985  \n",
       "2           4580279.72  2.140650  41.368985  \n",
       "3           4582672.59  2.144037  41.390564  \n",
       "4           4582672.59  2.144037  41.390564  \n",
       "...                ...       ...        ...  \n",
       "13053       4581881.31  2.163185  41.383577  \n",
       "13054       4581077.37  2.178636  41.376447  \n",
       "13055       4581077.37  2.178636  41.376447  \n",
       "13056       4581954.15  2.154051  41.384166  \n",
       "13057       4581954.15  2.154051  41.384166  \n",
       "\n",
       "[13058 rows x 26 columns]"
      ]
     },
     "execution_count": 30,
     "metadata": {},
     "output_type": "execute_result"
    }
   ],
   "source": [
    "accidents_by_person2020edited"
   ]
  },
  {
   "cell_type": "code",
   "execution_count": 31,
   "id": "21cbd7a8",
   "metadata": {},
   "outputs": [
    {
     "data": {
      "text/plain": [
       "Case_Number                                 0\n",
       "District_Name                               0\n",
       "Neighborhood_Name                           0\n",
       "Street_Name                                 0\n",
       "Day_of_Week                                 0\n",
       "Date                                        0\n",
       "Day_Type_Description                        0\n",
       "Year                                        0\n",
       "Month_of_Year                               0\n",
       "Month_Name                                  0\n",
       "Day_of_Month                                0\n",
       "Shift_Description                           0\n",
       "Hour_of_Day                                 0\n",
       "Pedestrian_Cause_Description                0\n",
       "Involved_Vehicle_Type_Description           0\n",
       "Gender_Description                          0\n",
       "Age                                         0\n",
       "Person_Type_Description                     0\n",
       "Pedestrian_Accident_Location_Description    0\n",
       "Pedestrian_Movement_Reason_Description      0\n",
       "Driver_Movement_Reason_Description          0\n",
       "Victimization_Description                   0\n",
       "Coordenada_UTM_X                            0\n",
       "Coordenada_UTM_Y                            0\n",
       "Longitud                                    0\n",
       "Latitud                                     0\n",
       "dtype: int64"
      ]
     },
     "execution_count": 31,
     "metadata": {},
     "output_type": "execute_result"
    }
   ],
   "source": [
    "accidents_by_person2020edited.isnull().sum() "
   ]
  },
  {
   "cell_type": "code",
   "execution_count": null,
   "id": "4ef1de79",
   "metadata": {},
   "outputs": [],
   "source": []
  },
  {
   "cell_type": "code",
   "execution_count": 32,
   "id": "d6411938",
   "metadata": {},
   "outputs": [],
   "source": [
    "accidents_by_person2020edited = accidents_by_person2020edited.drop_duplicates()"
   ]
  },
  {
   "cell_type": "code",
   "execution_count": 33,
   "id": "ac131707",
   "metadata": {},
   "outputs": [
    {
     "data": {
      "text/plain": [
       "0        29\n",
       "1        26\n",
       "2        31\n",
       "3        42\n",
       "4        36\n",
       "         ..\n",
       "13053    35\n",
       "13054    48\n",
       "13055    16\n",
       "13056    56\n",
       "13057    64\n",
       "Name: Age, Length: 13058, dtype: int64"
      ]
     },
     "execution_count": 33,
     "metadata": {},
     "output_type": "execute_result"
    }
   ],
   "source": [
    "accidents_by_person2020edited['Age']"
   ]
  },
  {
   "cell_type": "code",
   "execution_count": 34,
   "id": "f39ce42f",
   "metadata": {},
   "outputs": [
    {
     "data": {
      "text/plain": [
       "16    38\n",
       "15    17\n",
       "14    11\n",
       "12     2\n",
       "0      2\n",
       "13     2\n",
       "11     1\n",
       "9      1\n",
       "7      1\n",
       "10     1\n",
       "6      1\n",
       "Name: Age, dtype: int64"
      ]
     },
     "execution_count": 34,
     "metadata": {},
     "output_type": "execute_result"
    }
   ],
   "source": [
    "# Filter the dataset for drivers aged 16 or younger\n",
    "incorrect_values = accidents_by_person2020edited[\n",
    "    (accidents_by_person2020edited['Age'] <= 16) & (accidents_by_person2020edited['Person_Type_Description'] == 'Driver')\n",
    "]\n",
    "\n",
    "# Display the filtered dataset\n",
    "incorrect_values['Age'].value_counts()"
   ]
  },
  {
   "cell_type": "code",
   "execution_count": 38,
   "id": "1f80258a",
   "metadata": {},
   "outputs": [
    {
     "data": {
      "text/plain": [
       "array([ 7,  0,  6, 14, 12,  9,  3, 15,  2, 11,  4, 13, 10,  8, 95,  5,  1])"
      ]
     },
     "execution_count": 38,
     "metadata": {},
     "output_type": "execute_result"
    }
   ],
   "source": [
    "incorrect_age = accidents_by_person2020edited[\n",
    "    (accidents_by_person2020edited['Age'] < 16) |\n",
    "    (accidents_by_person2020edited['Age'] >= 95)\n",
    "]\n",
    "\n",
    "incorrect_age['Age'].unique()"
   ]
  },
  {
   "cell_type": "code",
   "execution_count": null,
   "id": "af098c29",
   "metadata": {},
   "outputs": [],
   "source": [
    "# I suggest to delete those rows"
   ]
  },
  {
   "cell_type": "code",
   "execution_count": 39,
   "id": "7f77932a",
   "metadata": {},
   "outputs": [],
   "source": [
    "accidents_by_person2020edited = accidents_by_person2020edited[\n",
    "    ~(\n",
    "        (accidents_by_person2020edited['Age'] < 16) |\n",
    "        (accidents_by_person2020edited['Age'] >= 95)\n",
    "    )\n",
    "]"
   ]
  },
  {
   "cell_type": "code",
   "execution_count": 40,
   "id": "9deee515",
   "metadata": {},
   "outputs": [
    {
     "data": {
      "image/png": "[encoded data removed]",
      "text/plain": [
       "<Figure size 1200x600 with 1 Axes>"
      ]
     },
     "metadata": {},
     "output_type": "display_data"
    }
   ],
   "source": [
    "plt.figure(figsize=(12, 6))\n",
    "accidents_by_person2020edited['Age'].value_counts().sort_index().plot(kind='bar')\n",
    "plt.title(\"Distribution of Accidents by Age\")\n",
    "plt.xlabel(\"Age\")\n",
    "plt.ylabel(\"Number of Accidents\")\n",
    "plt.xticks(rotation=45)\n",
    "plt.grid(axis='y', linestyle='--', alpha=0.7)\n",
    "plt.show()"
   ]
  },
  {
   "cell_type": "code",
   "execution_count": null,
   "id": "7338a5f3",
   "metadata": {},
   "outputs": [],
   "source": []
  },
  {
   "cell_type": "code",
   "execution_count": null,
   "id": "3dded2fc",
   "metadata": {},
   "outputs": [],
   "source": []
  },
  {
   "cell_type": "code",
   "execution_count": null,
   "id": "0fa2b806",
   "metadata": {},
   "outputs": [],
   "source": []
  },
  {
   "cell_type": "markdown",
   "id": "bb193d02",
   "metadata": {},
   "source": []
  },
  {
   "cell_type": "code",
   "execution_count": null,
   "id": "44d7fc45",
   "metadata": {},
   "outputs": [],
   "source": []
  },
  {
   "cell_type": "code",
   "execution_count": null,
   "id": "7cddd49f",
   "metadata": {},
   "outputs": [],
   "source": []
  },
  {
   "cell_type": "markdown",
   "id": "31b5f554",
   "metadata": {},
   "source": []
  },
  {
   "cell_type": "code",
   "execution_count": null,
   "id": "796acc87",
   "metadata": {},
   "outputs": [],
   "source": []
  },
  {
   "cell_type": "code",
   "execution_count": null,
   "id": "ee72f4b6",
   "metadata": {},
   "outputs": [],
   "source": []
  },
  {
   "cell_type": "code",
   "execution_count": 134,
   "id": "a461acf4",
   "metadata": {},
   "outputs": [],
   "source": []
  },
  {
   "cell_type": "code",
   "execution_count": 135,
   "id": "1d9933c4",
   "metadata": {},
   "outputs": [],
   "source": []
  },
  {
   "cell_type": "code",
   "execution_count": null,
   "id": "233d1945",
   "metadata": {},
   "outputs": [],
   "source": []
  },
  {
   "cell_type": "code",
   "execution_count": null,
   "id": "74deddbb",
   "metadata": {},
   "outputs": [],
   "source": []
  },
  {
   "cell_type": "code",
   "execution_count": null,
   "id": "c8040f63",
   "metadata": {},
   "outputs": [],
   "source": []
  },
  {
   "cell_type": "code",
   "execution_count": null,
   "id": "e87adcd7",
   "metadata": {},
   "outputs": [],
   "source": []
  },
  {
   "cell_type": "code",
   "execution_count": null,
   "id": "457f891a",
   "metadata": {},
   "outputs": [],
   "source": []
  },
  {
   "cell_type": "code",
   "execution_count": null,
   "id": "4523dc7e",
   "metadata": {},
   "outputs": [],
   "source": []
  },
  {
   "cell_type": "code",
   "execution_count": null,
   "id": "98aadadc",
   "metadata": {},
   "outputs": [],
   "source": []
  },
  {
   "cell_type": "code",
   "execution_count": null,
   "id": "722111dc",
   "metadata": {},
   "outputs": [],
   "source": []
  },
  {
   "cell_type": "code",
   "execution_count": null,
   "id": "abd6fc91",
   "metadata": {},
   "outputs": [],
   "source": []
  },
  {
   "cell_type": "code",
   "execution_count": null,
   "id": "aa1909e9",
   "metadata": {},
   "outputs": [],
   "source": []
  },
  {
   "cell_type": "code",
   "execution_count": null,
   "id": "09346ea2",
   "metadata": {},
   "outputs": [],
   "source": []
  },
  {
   "cell_type": "code",
   "execution_count": null,
   "id": "db3348a8",
   "metadata": {},
   "outputs": [],
   "source": []
  },
  {
   "cell_type": "code",
   "execution_count": null,
   "id": "662ca14e",
   "metadata": {},
   "outputs": [],
   "source": []
  },
  {
   "cell_type": "code",
   "execution_count": null,
   "id": "673e37e7",
   "metadata": {},
   "outputs": [],
   "source": []
  },
  {
   "cell_type": "code",
   "execution_count": null,
   "id": "806b14a3",
   "metadata": {},
   "outputs": [],
   "source": [
    "\n"
   ]
  },
  {
   "cell_type": "code",
   "execution_count": null,
   "id": "2afcfdda",
   "metadata": {},
   "outputs": [],
   "source": []
  }
 ],
 "metadata": {
  "kernelspec": {
   "display_name": "Python 3 (ipykernel)",
   "language": "python",
   "name": "python3"
  },
  "language_info": {
   "codemirror_mode": {
    "name": "ipython",
    "version": 3
   },
   "file_extension": ".py",
   "mimetype": "text/x-python",
   "name": "python",
   "nbconvert_exporter": "python",
   "pygments_lexer": "ipython3",
   "version": "3.9.13"
  }
 },
 "nbformat": 4,
 "nbformat_minor": 5
}
