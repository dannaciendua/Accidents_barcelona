{
 "cells": [
  {
   "cell_type": "code",
   "execution_count": 1,
   "id": "4f0eb0b3",
   "metadata": {},
   "outputs": [],
   "source": [
    "import pandas as pd\n",
    "from matplotlib import pyplot as plt\n",
    "import seaborn as sns\n",
    "import folium\n",
    "from folium.plugins import HeatMap\n",
    "import numpy as np\n",
    "from getpass import getpass\n",
    "import psycopg2\n",
    "import pandas.io.sql as sqlio"
   ]
  },
  {
   "cell_type": "code",
   "execution_count": null,
   "id": "59f42c9f",
   "metadata": {},
   "outputs": [],
   "source": []
  },
  {
   "cell_type": "code",
   "execution_count": 2,
   "id": "edf05228",
   "metadata": {},
   "outputs": [],
   "source": [
    "accidents_by_vehicle2020  = pd.read_csv('/Users/anastasiasadova/Desktop/files_git/2020_accidents_vehicles_edited.csv')\n",
    "accidents_cause2020 = pd.read_csv('/Users/anastasiasadova/Desktop/files_git/accidents_by_cause2020edited.csv')\n",
    "accidents_people2020 = pd.read_csv('/Users/anastasiasadova/Desktop/files_git/2020_accidents_persones_correctage.csv')"
   ]
  },
  {
   "cell_type": "code",
   "execution_count": 3,
   "id": "55b80388",
   "metadata": {},
   "outputs": [],
   "source": [
    "# merged1 = pd.merge(accidents_cause2020, accidents_by_vehicle2020, on=\"Case_Number\", how=\"inner\")"
   ]
  },
  {
   "cell_type": "code",
   "execution_count": 4,
   "id": "c38da16a",
   "metadata": {},
   "outputs": [
    {
     "name": "stdout",
     "output_type": "stream",
     "text": [
      "object object object\n"
     ]
    }
   ],
   "source": [
    "print(accidents_by_vehicle2020['Case_Number'].dtype, accidents_cause2020['Case_Number'].dtype, accidents_people2020['Case_Number'].dtype)\n"
   ]
  },
  {
   "cell_type": "code",
   "execution_count": 5,
   "id": "de33273c",
   "metadata": {},
   "outputs": [],
   "source": [
    "accidents_by_vehicle2020['Case_Number'] = accidents_by_vehicle2020['Case_Number'].str.strip()\n",
    "accidents_cause2020['Case_Number'] = accidents_cause2020['Case_Number'].str.strip()\n",
    "accidents_people2020['Case_Number'] = accidents_people2020['Case_Number'].str.strip()"
   ]
  },
  {
   "cell_type": "code",
   "execution_count": 6,
   "id": "61492b5b",
   "metadata": {},
   "outputs": [],
   "source": [
    "# Drop duplicate Case_Number rows, keeping only the first occurrence\n",
    "accidents_by_vehicle2020 = accidents_by_vehicle2020.drop_duplicates(subset='Case_Number', keep='first')\n"
   ]
  },
  {
   "cell_type": "code",
   "execution_count": 7,
   "id": "7f6734cd",
   "metadata": {},
   "outputs": [],
   "source": [
    "accidents_cause2020 = accidents_cause2020.drop_duplicates(subset='Case_Number', keep='first')\n"
   ]
  },
  {
   "cell_type": "code",
   "execution_count": 8,
   "id": "bcb673d4",
   "metadata": {},
   "outputs": [],
   "source": [
    "accidents_people2020 = accidents_cause2020.drop_duplicates(subset='Case_Number', keep='first')\n"
   ]
  },
  {
   "cell_type": "code",
   "execution_count": 9,
   "id": "f2f87bb6",
   "metadata": {},
   "outputs": [
    {
     "data": {
      "text/plain": [
       "2020S000001    1\n",
       "2020S004170    1\n",
       "2020S004192    1\n",
       "2020S004191    1\n",
       "2020S004190    1\n",
       "              ..\n",
       "2020S002095    1\n",
       "2020S002094    1\n",
       "2020S002093    1\n",
       "2020S002092    1\n",
       "2020S006278    1\n",
       "Name: Case_Number, Length: 6257, dtype: int64"
      ]
     },
     "execution_count": 9,
     "metadata": {},
     "output_type": "execute_result"
    }
   ],
   "source": [
    "accidents_by_vehicle2020['Case_Number'].value_counts()"
   ]
  },
  {
   "cell_type": "code",
   "execution_count": 10,
   "id": "365821ec",
   "metadata": {},
   "outputs": [],
   "source": [
    "accidents_by_vehicle2020.to_csv('/Users/anastasiasadova/Desktop/files_git/accidents_by_vehicle2020notduplicated.csv', index=False)\n",
    "\n",
    "accidents_people2020.to_csv('/Users/anastasiasadova/Desktop/files_git/accidents_people2020notduplicated.csv', index=False)\n",
    "\n",
    "accidents_cause2020.to_csv('/Users/anastasiasadova/Desktop/files_git/accidents_cause2020notduplicated.csv', index=False)\n"
   ]
  },
  {
   "cell_type": "code",
   "execution_count": 70,
   "id": "dce324de",
   "metadata": {},
   "outputs": [
    {
     "data": {
      "text/html": [
       "<div>\n",
       "<style scoped>\n",
       "    .dataframe tbody tr th:only-of-type {\n",
       "        vertical-align: middle;\n",
       "    }\n",
       "\n",
       "    .dataframe tbody tr th {\n",
       "        vertical-align: top;\n",
       "    }\n",
       "\n",
       "    .dataframe thead th {\n",
       "        text-align: right;\n",
       "    }\n",
       "</style>\n",
       "<table border=\"1\" class=\"dataframe\">\n",
       "  <thead>\n",
       "    <tr style=\"text-align: right;\">\n",
       "      <th></th>\n",
       "      <th>Case_Number</th>\n",
       "      <th>District_Name</th>\n",
       "      <th>Neighborhood_Name</th>\n",
       "      <th>Street_Name</th>\n",
       "      <th>Day_of_Week</th>\n",
       "      <th>Day_Type</th>\n",
       "      <th>Year</th>\n",
       "      <th>Month_Number</th>\n",
       "      <th>Month_Name</th>\n",
       "      <th>Day_of_Month</th>\n",
       "      <th>...</th>\n",
       "      <th>Vehicle_Brand</th>\n",
       "      <th>Vehicle_Color</th>\n",
       "      <th>License_Description</th>\n",
       "      <th>License_Age</th>\n",
       "      <th>Coordenada_UTM_X</th>\n",
       "      <th>Coordenada_UTM_Y</th>\n",
       "      <th>Latitud</th>\n",
       "      <th>Longitud</th>\n",
       "      <th>Date</th>\n",
       "      <th>Valid_License_Age</th>\n",
       "    </tr>\n",
       "  </thead>\n",
       "  <tbody>\n",
       "    <tr>\n",
       "      <th>0</th>\n",
       "      <td>2020S000001</td>\n",
       "      <td>Horta-Guinardó</td>\n",
       "      <td>la Font d'en Fargues</td>\n",
       "      <td>Maragall</td>\n",
       "      <td>Wednesday</td>\n",
       "      <td>Working Day</td>\n",
       "      <td>2020</td>\n",
       "      <td>1</td>\n",
       "      <td>January</td>\n",
       "      <td>1</td>\n",
       "      <td>...</td>\n",
       "      <td>CITROEN</td>\n",
       "      <td>Unknown</td>\n",
       "      <td>B</td>\n",
       "      <td>4</td>\n",
       "      <td>430501.45</td>\n",
       "      <td>4586751.53</td>\n",
       "      <td>41.427474</td>\n",
       "      <td>2.167116</td>\n",
       "      <td>2020-01-01</td>\n",
       "      <td>4.0</td>\n",
       "    </tr>\n",
       "    <tr>\n",
       "      <th>1</th>\n",
       "      <td>2020S000002</td>\n",
       "      <td>Sants-Montjuïc</td>\n",
       "      <td>la Bordeta</td>\n",
       "      <td>Corts Catalanes</td>\n",
       "      <td>Wednesday</td>\n",
       "      <td>Working Day</td>\n",
       "      <td>2020</td>\n",
       "      <td>1</td>\n",
       "      <td>January</td>\n",
       "      <td>1</td>\n",
       "      <td>...</td>\n",
       "      <td>MERCEDES-BENZ</td>\n",
       "      <td>Black/Yellow</td>\n",
       "      <td>B</td>\n",
       "      <td>11</td>\n",
       "      <td>428225.71</td>\n",
       "      <td>4580279.72</td>\n",
       "      <td>41.368985</td>\n",
       "      <td>2.140650</td>\n",
       "      <td>2020-01-01</td>\n",
       "      <td>11.0</td>\n",
       "    </tr>\n",
       "    <tr>\n",
       "      <th>2</th>\n",
       "      <td>2020S000003</td>\n",
       "      <td>Eixample</td>\n",
       "      <td>l'Antiga Esquerra de l'Eixample</td>\n",
       "      <td>Sarrià</td>\n",
       "      <td>Wednesday</td>\n",
       "      <td>Working Day</td>\n",
       "      <td>2020</td>\n",
       "      <td>1</td>\n",
       "      <td>January</td>\n",
       "      <td>1</td>\n",
       "      <td>...</td>\n",
       "      <td>YAMAHA</td>\n",
       "      <td>Black</td>\n",
       "      <td>A</td>\n",
       "      <td>24</td>\n",
       "      <td>428532.59</td>\n",
       "      <td>4582672.59</td>\n",
       "      <td>41.390564</td>\n",
       "      <td>2.144037</td>\n",
       "      <td>2020-01-01</td>\n",
       "      <td>24.0</td>\n",
       "    </tr>\n",
       "    <tr>\n",
       "      <th>4</th>\n",
       "      <td>2020S000004</td>\n",
       "      <td>Les Corts</td>\n",
       "      <td>les Corts</td>\n",
       "      <td>Doctor Fleming</td>\n",
       "      <td>Wednesday</td>\n",
       "      <td>Working Day</td>\n",
       "      <td>2020</td>\n",
       "      <td>1</td>\n",
       "      <td>January</td>\n",
       "      <td>1</td>\n",
       "      <td>...</td>\n",
       "      <td>SEAT</td>\n",
       "      <td>Gray</td>\n",
       "      <td>B</td>\n",
       "      <td>4</td>\n",
       "      <td>427929.13</td>\n",
       "      <td>4582767.09</td>\n",
       "      <td>41.391361</td>\n",
       "      <td>2.136808</td>\n",
       "      <td>2020-01-01</td>\n",
       "      <td>4.0</td>\n",
       "    </tr>\n",
       "    <tr>\n",
       "      <th>6</th>\n",
       "      <td>2020S000005</td>\n",
       "      <td>Eixample</td>\n",
       "      <td>la Dreta de l'Eixample</td>\n",
       "      <td>Sant Pere</td>\n",
       "      <td>Wednesday</td>\n",
       "      <td>Working Day</td>\n",
       "      <td>2020</td>\n",
       "      <td>1</td>\n",
       "      <td>January</td>\n",
       "      <td>1</td>\n",
       "      <td>...</td>\n",
       "      <td>Unknown</td>\n",
       "      <td>Unknown</td>\n",
       "      <td>Unknown</td>\n",
       "      <td>Unknown</td>\n",
       "      <td>431157.87</td>\n",
       "      <td>4582598.57</td>\n",
       "      <td>41.390126</td>\n",
       "      <td>2.175444</td>\n",
       "      <td>2020-01-01</td>\n",
       "      <td>NaN</td>\n",
       "    </tr>\n",
       "    <tr>\n",
       "      <th>...</th>\n",
       "      <td>...</td>\n",
       "      <td>...</td>\n",
       "      <td>...</td>\n",
       "      <td>...</td>\n",
       "      <td>...</td>\n",
       "      <td>...</td>\n",
       "      <td>...</td>\n",
       "      <td>...</td>\n",
       "      <td>...</td>\n",
       "      <td>...</td>\n",
       "      <td>...</td>\n",
       "      <td>...</td>\n",
       "      <td>...</td>\n",
       "      <td>...</td>\n",
       "      <td>...</td>\n",
       "      <td>...</td>\n",
       "      <td>...</td>\n",
       "      <td>...</td>\n",
       "      <td>...</td>\n",
       "      <td>...</td>\n",
       "      <td>...</td>\n",
       "    </tr>\n",
       "    <tr>\n",
       "      <th>11690</th>\n",
       "      <td>2020S006274</td>\n",
       "      <td>Horta-Guinardó</td>\n",
       "      <td>el Carmel</td>\n",
       "      <td>Lluís Marià Vidal</td>\n",
       "      <td>Thursday</td>\n",
       "      <td>Working Day</td>\n",
       "      <td>2020</td>\n",
       "      <td>12</td>\n",
       "      <td>December</td>\n",
       "      <td>31</td>\n",
       "      <td>...</td>\n",
       "      <td>FORD</td>\n",
       "      <td>Black</td>\n",
       "      <td>B</td>\n",
       "      <td>29</td>\n",
       "      <td>429662.80</td>\n",
       "      <td>4586412.97</td>\n",
       "      <td>41.424352</td>\n",
       "      <td>2.157119</td>\n",
       "      <td>2020-12-31</td>\n",
       "      <td>29.0</td>\n",
       "    </tr>\n",
       "    <tr>\n",
       "      <th>11691</th>\n",
       "      <td>2020S006275</td>\n",
       "      <td>Eixample</td>\n",
       "      <td>Sant Antoni</td>\n",
       "      <td>Sepúlveda</td>\n",
       "      <td>Thursday</td>\n",
       "      <td>Working Day</td>\n",
       "      <td>2020</td>\n",
       "      <td>12</td>\n",
       "      <td>December</td>\n",
       "      <td>31</td>\n",
       "      <td>...</td>\n",
       "      <td>ASKOLL</td>\n",
       "      <td>White</td>\n",
       "      <td>B</td>\n",
       "      <td>16</td>\n",
       "      <td>430125.99</td>\n",
       "      <td>4581881.31</td>\n",
       "      <td>41.383577</td>\n",
       "      <td>2.163185</td>\n",
       "      <td>2020-12-31</td>\n",
       "      <td>16.0</td>\n",
       "    </tr>\n",
       "    <tr>\n",
       "      <th>11693</th>\n",
       "      <td>2020S006276</td>\n",
       "      <td>Ciutat Vella</td>\n",
       "      <td>el Barri Gòtic</td>\n",
       "      <td>Litoral (Llobregat)</td>\n",
       "      <td>Thursday</td>\n",
       "      <td>Working Day</td>\n",
       "      <td>2020</td>\n",
       "      <td>12</td>\n",
       "      <td>December</td>\n",
       "      <td>31</td>\n",
       "      <td>...</td>\n",
       "      <td>KYMCO</td>\n",
       "      <td>Unknown</td>\n",
       "      <td>B</td>\n",
       "      <td>16</td>\n",
       "      <td>431410.40</td>\n",
       "      <td>4581077.37</td>\n",
       "      <td>41.376447</td>\n",
       "      <td>2.178636</td>\n",
       "      <td>2020-12-31</td>\n",
       "      <td>16.0</td>\n",
       "    </tr>\n",
       "    <tr>\n",
       "      <th>11695</th>\n",
       "      <td>2020S006277</td>\n",
       "      <td>Eixample</td>\n",
       "      <td>la Nova Esquerra de l'Eixample</td>\n",
       "      <td>Aragó</td>\n",
       "      <td>Thursday</td>\n",
       "      <td>Working Day</td>\n",
       "      <td>2020</td>\n",
       "      <td>12</td>\n",
       "      <td>December</td>\n",
       "      <td>31</td>\n",
       "      <td>...</td>\n",
       "      <td>HONDA</td>\n",
       "      <td>Red</td>\n",
       "      <td>A</td>\n",
       "      <td>25</td>\n",
       "      <td>429362.84</td>\n",
       "      <td>4581954.15</td>\n",
       "      <td>41.384166</td>\n",
       "      <td>2.154051</td>\n",
       "      <td>2020-12-31</td>\n",
       "      <td>25.0</td>\n",
       "    </tr>\n",
       "    <tr>\n",
       "      <th>11696</th>\n",
       "      <td>2020S006278</td>\n",
       "      <td>Nou Barris</td>\n",
       "      <td>Vilapicina i la Torre Llobeta</td>\n",
       "      <td>Quinze</td>\n",
       "      <td>Tuesday</td>\n",
       "      <td>Working Day</td>\n",
       "      <td>2020</td>\n",
       "      <td>12</td>\n",
       "      <td>December</td>\n",
       "      <td>22</td>\n",
       "      <td>...</td>\n",
       "      <td>RENAULT</td>\n",
       "      <td>White</td>\n",
       "      <td>Unknown</td>\n",
       "      <td>Unknown</td>\n",
       "      <td>431221.22</td>\n",
       "      <td>4586654.09</td>\n",
       "      <td>41.426658</td>\n",
       "      <td>2.175740</td>\n",
       "      <td>2020-12-22</td>\n",
       "      <td>NaN</td>\n",
       "    </tr>\n",
       "  </tbody>\n",
       "</table>\n",
       "<p>6257 rows × 25 columns</p>\n",
       "</div>"
      ],
      "text/plain": [
       "       Case_Number   District_Name                Neighborhood_Name  \\\n",
       "0      2020S000001  Horta-Guinardó             la Font d'en Fargues   \n",
       "1      2020S000002  Sants-Montjuïc                       la Bordeta   \n",
       "2      2020S000003        Eixample  l'Antiga Esquerra de l'Eixample   \n",
       "4      2020S000004       Les Corts                        les Corts   \n",
       "6      2020S000005        Eixample           la Dreta de l'Eixample   \n",
       "...            ...             ...                              ...   \n",
       "11690  2020S006274  Horta-Guinardó                        el Carmel   \n",
       "11691  2020S006275        Eixample                      Sant Antoni   \n",
       "11693  2020S006276    Ciutat Vella                   el Barri Gòtic   \n",
       "11695  2020S006277        Eixample   la Nova Esquerra de l'Eixample   \n",
       "11696  2020S006278      Nou Barris    Vilapicina i la Torre Llobeta   \n",
       "\n",
       "               Street_Name Day_of_Week     Day_Type  Year  Month_Number  \\\n",
       "0                 Maragall   Wednesday  Working Day  2020             1   \n",
       "1          Corts Catalanes   Wednesday  Working Day  2020             1   \n",
       "2                   Sarrià   Wednesday  Working Day  2020             1   \n",
       "4           Doctor Fleming   Wednesday  Working Day  2020             1   \n",
       "6                Sant Pere   Wednesday  Working Day  2020             1   \n",
       "...                    ...         ...          ...   ...           ...   \n",
       "11690    Lluís Marià Vidal    Thursday  Working Day  2020            12   \n",
       "11691            Sepúlveda    Thursday  Working Day  2020            12   \n",
       "11693  Litoral (Llobregat)    Thursday  Working Day  2020            12   \n",
       "11695                Aragó    Thursday  Working Day  2020            12   \n",
       "11696               Quinze     Tuesday  Working Day  2020            12   \n",
       "\n",
       "      Month_Name  Day_of_Month  ...  Vehicle_Brand Vehicle_Color  \\\n",
       "0        January             1  ...        CITROEN       Unknown   \n",
       "1        January             1  ...  MERCEDES-BENZ  Black/Yellow   \n",
       "2        January             1  ...         YAMAHA         Black   \n",
       "4        January             1  ...           SEAT          Gray   \n",
       "6        January             1  ...        Unknown       Unknown   \n",
       "...          ...           ...  ...            ...           ...   \n",
       "11690   December            31  ...           FORD         Black   \n",
       "11691   December            31  ...         ASKOLL         White   \n",
       "11693   December            31  ...          KYMCO       Unknown   \n",
       "11695   December            31  ...          HONDA           Red   \n",
       "11696   December            22  ...        RENAULT         White   \n",
       "\n",
       "      License_Description License_Age Coordenada_UTM_X Coordenada_UTM_Y  \\\n",
       "0                       B           4        430501.45       4586751.53   \n",
       "1                       B          11        428225.71       4580279.72   \n",
       "2                       A          24        428532.59       4582672.59   \n",
       "4                       B           4        427929.13       4582767.09   \n",
       "6                 Unknown     Unknown        431157.87       4582598.57   \n",
       "...                   ...         ...              ...              ...   \n",
       "11690                   B          29        429662.80       4586412.97   \n",
       "11691                   B          16        430125.99       4581881.31   \n",
       "11693                   B          16        431410.40       4581077.37   \n",
       "11695                   A          25        429362.84       4581954.15   \n",
       "11696             Unknown     Unknown        431221.22       4586654.09   \n",
       "\n",
       "         Latitud  Longitud        Date  Valid_License_Age  \n",
       "0      41.427474  2.167116  2020-01-01                4.0  \n",
       "1      41.368985  2.140650  2020-01-01               11.0  \n",
       "2      41.390564  2.144037  2020-01-01               24.0  \n",
       "4      41.391361  2.136808  2020-01-01                4.0  \n",
       "6      41.390126  2.175444  2020-01-01                NaN  \n",
       "...          ...       ...         ...                ...  \n",
       "11690  41.424352  2.157119  2020-12-31               29.0  \n",
       "11691  41.383577  2.163185  2020-12-31               16.0  \n",
       "11693  41.376447  2.178636  2020-12-31               16.0  \n",
       "11695  41.384166  2.154051  2020-12-31               25.0  \n",
       "11696  41.426658  2.175740  2020-12-22                NaN  \n",
       "\n",
       "[6257 rows x 25 columns]"
      ]
     },
     "execution_count": 70,
     "metadata": {},
     "output_type": "execute_result"
    }
   ],
   "source": [
    "\\COPY accidents_people FROM '/Users/anastasiasadova/Desktop/files_git/accidents_people2020notduplicated.csv' HEADER CSV\n"
   ]
  },
  {
   "cell_type": "code",
   "execution_count": 55,
   "id": "ad372483",
   "metadata": {},
   "outputs": [
    {
     "data": {
      "text/plain": [
       "Index(['Case_Number', 'District_Name', 'Neighborhood_Name', 'Street_Name',\n",
       "       'Day_of_Week', 'Date', 'Day_Type_Description', 'Year', 'Month_of_Year',\n",
       "       'Month_Name', 'Day_of_Month', 'Shift_Description', 'Hour_of_Day',\n",
       "       'Pedestrian_Cause_Description', 'Involved_Vehicle_Type_Description',\n",
       "       'Gender_Description', 'Age', 'Person_Type_Description',\n",
       "       'Pedestrian_Accident_Location_Description',\n",
       "       'Pedestrian_Movement_Reason_Description',\n",
       "       'Driver_Movement_Reason_Description', 'Victimization_Description',\n",
       "       'Coordenada_UTM_X', 'Coordenada_UTM_Y', 'Longitud', 'Latitud'],\n",
       "      dtype='object')"
      ]
     },
     "execution_count": 55,
     "metadata": {},
     "output_type": "execute_result"
    }
   ],
   "source": [
    "accidents_people2020.columns"
   ]
  },
  {
   "cell_type": "markdown",
   "id": "3d49406d",
   "metadata": {},
   "source": [
    "  from people  \n",
    "  \n",
    "      'Pedestrian_Cause_Description', \n",
    "        'Involved_Vehicle_Type_Description',\n",
    "       'Gender_Description', \n",
    "        'Age', \n",
    "        'Person_Type_Description',\n",
    "       'Pedestrian_Accident_Location_Description',\n",
    "       'Pedestrian_Movement_Reason_Description',\n",
    "       'Driver_Movement_Reason_Description', \n",
    "        'Victimization_Description'"
   ]
  },
  {
   "cell_type": "code",
   "execution_count": 51,
   "id": "531ebacf",
   "metadata": {},
   "outputs": [
    {
     "data": {
      "text/plain": [
       "(13019, 26)"
      ]
     },
     "execution_count": 51,
     "metadata": {},
     "output_type": "execute_result"
    }
   ],
   "source": [
    "accidents_people2020.shape"
   ]
  },
  {
   "cell_type": "code",
   "execution_count": 52,
   "id": "331de01e",
   "metadata": {},
   "outputs": [
    {
     "data": {
      "text/plain": [
       "(11698, 25)"
      ]
     },
     "execution_count": 52,
     "metadata": {},
     "output_type": "execute_result"
    }
   ],
   "source": [
    "accidents_by_vehicle2020.shape"
   ]
  },
  {
   "cell_type": "code",
   "execution_count": 56,
   "id": "c1ed2ff3",
   "metadata": {},
   "outputs": [
    {
     "data": {
      "text/plain": [
       "Index(['Case_Number', 'District_Name', 'Neighborhood_Name', 'Street_Name',\n",
       "       'Day_of_Week', 'Day_Type', 'Year', 'Month_Number', 'Month_Name',\n",
       "       'Day_of_Month', 'Hour_of_Day', 'Shift_Description',\n",
       "       'Pedestrian_Cause_Description', 'Vehicle_Type_Description',\n",
       "       'Vehicle_Model', 'Vehicle_Brand', 'Vehicle_Color',\n",
       "       'License_Description', 'License_Age', 'Coordenada_UTM_X',\n",
       "       'Coordenada_UTM_Y', 'Latitud', 'Longitud', 'Date', 'Valid_License_Age'],\n",
       "      dtype='object')"
      ]
     },
     "execution_count": 56,
     "metadata": {},
     "output_type": "execute_result"
    }
   ],
   "source": [
    "accidents_by_vehicle2020.columns"
   ]
  },
  {
   "cell_type": "markdown",
   "id": "6a2f8b11",
   "metadata": {},
   "source": [
    "from vehicle\n",
    "\n",
    "'Pedestrian_Cause_Description', 'Vehicle_Type_Description',\n",
    "       'Vehicle_Model', 'Vehicle_Brand', 'Vehicle_Color',\n",
    "       'License_Description', 'License_Age'"
   ]
  },
  {
   "cell_type": "code",
   "execution_count": null,
   "id": "a144cfd1",
   "metadata": {},
   "outputs": [],
   "source": []
  },
  {
   "cell_type": "code",
   "execution_count": null,
   "id": "7b189a79",
   "metadata": {},
   "outputs": [],
   "source": []
  },
  {
   "cell_type": "code",
   "execution_count": null,
   "id": "3ae44ab0",
   "metadata": {},
   "outputs": [],
   "source": [
    "\n"
   ]
  },
  {
   "cell_type": "code",
   "execution_count": 8,
   "id": "2b2cf835",
   "metadata": {},
   "outputs": [],
   "source": [
    "# merged = pd.merge(accidents_by_vehicle2020, accidents_cause2020, on='Case_Number', how='inner')\n",
    "#merged = pd.merge(merged, accidents_people2020, on='Case_Number', how='inner')\n"
   ]
  }
 ],
 "metadata": {
  "kernelspec": {
   "display_name": "Python 3 (ipykernel)",
   "language": "python",
   "name": "python3"
  },
  "language_info": {
   "codemirror_mode": {
    "name": "ipython",
    "version": 3
   },
   "file_extension": ".py",
   "mimetype": "text/x-python",
   "name": "python",
   "nbconvert_exporter": "python",
   "pygments_lexer": "ipython3",
   "version": "3.9.13"
  }
 },
 "nbformat": 4,
 "nbformat_minor": 5
}
